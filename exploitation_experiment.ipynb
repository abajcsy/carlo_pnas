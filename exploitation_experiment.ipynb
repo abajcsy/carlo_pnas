{
 "cells": [
  {
   "cell_type": "code",
   "execution_count": 1,
   "id": "a7d84b1c",
   "metadata": {},
   "outputs": [],
   "source": [
    "import numpy as np\n",
    "import pdb\n",
    "# choise of the hypothesis will make problem hard \n",
    "# convergence. \n",
    "\n",
    "#      $_ @ _ % _ *  row experiment\n",
    "# player 1 hypothesis: player 2 catches me                 or goes to [6] intrinsically\n",
    "# player 2 hypothesis: player 1 wants to guide me to [6]   or goes to [0] intrinsically\n",
    "size_s = 7\n",
    "size_state_space = 7*7\n",
    "action_list = [-1, 0, 1] # moves left or right\n",
    "start_position_1 = 2 # position @\n",
    "start_position_2 = 4 # position %\n",
    "def dynamics(x1, x2, u1, u2):\n",
    "    x1_next = x1 + action_list[u1]\n",
    "    x2_next = x2 + action_list[u2]\n",
    "    if x1_next > 6 or x1_next < 0:\n",
    "        x1_next = x1\n",
    "    if x2_next > 6 or x2_next < 0:\n",
    "        x2_next = x2\n",
    "    x = x1_next*7+x2_next\n",
    "    return x\n",
    "\n",
    "p1_h1 = lambda x1, x2, u1, u2 : (x1-x2)**2  + 0.1*(u2-1)**2+ 0.1*(u1-1)**2      # reward for player 2\n",
    "p1_h2 = lambda x1, x2, u1, u2 : (x2-6)**2   + 0.1*(u2-1)**2+ 0.1*(u1-1)**2      # reward for player 2\n",
    "p2_h1 = lambda x1, x2, u1, u2 : (x2-6)**2   + 0.1*(u1-1)**2+ 0.1*(u2-1)**2      # reward for player 1\n",
    "p2_h2 = lambda x1, x2, u1, u2 : (x1)**2     + 0.1*(u1-1)**2+ 0.1*(u2-1)**2      # reward for player 1\n",
    "def value_functions(r1,r2,horizon, size_s):\n",
    "    NE_is_not_unique=False\n",
    "    Q1  = np.zeros((horizon-1, size_s**2, 3, 3))\n",
    "    Q2  = np.zeros((horizon-1, size_s**2, 3, 3))\n",
    "    pi1 = np.zeros((horizon-1, size_s**2), int)\n",
    "    pi2 = np.zeros((horizon-1, size_s**2), int)\n",
    "    V1  = np.zeros((horizon,   size_s**2))\n",
    "    V2  = np.zeros((horizon,   size_s**2))\n",
    "    for x in range(size_s**2):\n",
    "        x1 = int(x/size_s)\n",
    "        x2 = x%size_s\n",
    "        V1[-1,x] = r1(x1, x2, 1, 1)\n",
    "        V2[-1,x] = r2(x1, x2, 1, 1)\n",
    "    for t in np.flip(range(horizon-1)):\n",
    "        for x in range(size_s**2):\n",
    "            x1 = int(x/size_s)\n",
    "            x2 = x%size_s\n",
    "            for u1 in range(3):\n",
    "                for u2 in range(3):\n",
    "                    Q1[t,x,u1,u2] = r1(x1,x2,u1,u2) + V1[t+1,dynamics(x1,x2,u1,u2)] # u1 corresponds to row\n",
    "                    Q2[t,x,u1,u2] = r2(x1,x2,u1,u2) + V2[t+1,dynamics(x1,x2,u1,u2)]\n",
    "            pi1_tmp = np.argmin(Q1[t,x,:,:], 1) # Given player 2's row action, what's my column action?\n",
    "            pi2_tmp = np.argmin(Q2[t,x,:,:], 0) # Given player 1's column action, what's my row action?\n",
    "            tmp1_list = np.array(([]), dtype=np.int64)\n",
    "            tmp2_list = np.array(([]), dtype=np.int64)\n",
    "            for idx in range(3):\n",
    "                \n",
    "                if pi1_tmp[pi2_tmp[idx]] == idx:\n",
    "                    tmp1_list = np.append(tmp1_list, idx)\n",
    "                    tmp2_list = np.append(tmp2_list, pi2_tmp[idx])    \n",
    "            if len(tmp1_list)>2:\n",
    "                NE_is_not_unique=True\n",
    "            elif len(tmp1_list)==0:\n",
    "                import pdb; pdb.set_trace()\n",
    "            pi2[t,x] = tmp1_list[0]\n",
    "            pi1[t,x] = tmp2_list[0]\n",
    "            \n",
    "            V1[t,x] = Q1[t, x, pi1[t,x], pi2[t,x]]\n",
    "            V2[t,x] = Q2[t, x, pi1[t,x], pi2[t,x]]     \n",
    "    print(\"NE is not unique.\") if NE_is_not_unique==True else None\n",
    "    return V1, V2, Q1, Q2, pi1, pi2"
   ]
  },
  {
   "cell_type": "code",
   "execution_count": 2,
   "id": "798e8db6",
   "metadata": {},
   "outputs": [],
   "source": [
    "horizon = 12\n",
    "# player 1 hypothesis: player 2 catches me                 or goes to [6] intrinsically\n",
    "# player 2 hypothesis: player 1 wants to guide me to [6]   or goes to [0] intrinsically\n",
    "V1_1, V2_1, Q1_1, Q2_1, pi1_1, pi2_1 = value_functions(p2_h1,p1_h1,horizon, size_s) # ground truth\n",
    "V1_2, V2_2, Q1_2, Q2_2, pi1_2, pi2_2 = value_functions(p2_h2,p1_h1,horizon, size_s) # in player 2's mind\n",
    "V1_3, V2_3, Q1_3, Q2_3, pi1_3, pi2_3 = value_functions(p2_h1,p1_h2,horizon, size_s) # in player 1's mind\n",
    "V1_4, V2_4, Q1_4, Q2_4, pi1_4, pi2_4 = value_functions(p2_h2,p1_h2,horizon, size_s)"
   ]
  },
  {
   "cell_type": "code",
   "execution_count": 3,
   "id": "3bccf9f3",
   "metadata": {},
   "outputs": [
    {
     "name": "stdout",
     "output_type": "stream",
     "text": [
      "sampled trajectory:\n",
      "[[3 4 5 6 6 6 6 6 6 6 6 6]\n",
      " [3 4 5 6 6 6 6 6 6 6 6 6]]\n"
     ]
    }
   ],
   "source": [
    "# simulation under ground truth cost parameters\n",
    "x1 = 3\n",
    "x2 = 3\n",
    "\n",
    "x_traj = np.zeros(horizon, int)\n",
    "x_traj[0] = x1*7 + x2\n",
    "x_list = np.zeros((horizon,2), int)\n",
    "x_list[0,0] = x1\n",
    "x_list[0,1] = x2\n",
    "for t in range(horizon-1):\n",
    "    action1 = pi1_1[t,int(x_traj[t])]\n",
    "    action2 = pi2_1[t,int(x_traj[t])]\n",
    "    x_traj[t+1] = dynamics(x_list[t,0],x_list[t,1], action1, action2)\n",
    "    x_list[t+1,0] = int(x_traj[t+1]/size_s)\n",
    "    x_list[t+1,1] = x_traj[t+1]%size_s\n",
    "print(\"sampled trajectory:\")\n",
    "print(x_list.transpose())"
   ]
  },
  {
   "cell_type": "code",
   "execution_count": 4,
   "id": "e74bc3d6",
   "metadata": {},
   "outputs": [
    {
     "name": "stdout",
     "output_type": "stream",
     "text": [
      "sampled trajectory:\n",
      "[[3 2 1 0 0 0 0 0 0 0 0 0]\n",
      " [3 2 1 0 0 0 0 0 0 0 0 0]]\n"
     ]
    }
   ],
   "source": [
    "# in player 2's mind: I want to catch player 1, player 1 wants to go to [0]\n",
    "x1=3\n",
    "x2=3\n",
    "\n",
    "x_traj = np.zeros(horizon, int)\n",
    "x_traj[0] = x1*7 + x2\n",
    "x_list = np.zeros((horizon,2), int)\n",
    "x_list[0,0] = x1\n",
    "x_list[0,1] = x2\n",
    "for t in range(horizon-1):\n",
    "    action1 = pi1_2[t,int(x_traj[t])]\n",
    "    action2 = pi2_2[t,int(x_traj[t])]\n",
    "    x_traj[t+1] = dynamics(x_list[t,0],x_list[t,1], action1, action2)\n",
    "    x_list[t+1,0] = int(x_traj[t+1]/size_s)\n",
    "    x_list[t+1,1] = x_traj[t+1]%size_s\n",
    "print(\"sampled trajectory:\")\n",
    "print(x_list.transpose())"
   ]
  },
  {
   "cell_type": "code",
   "execution_count": 5,
   "id": "b32d3a9e",
   "metadata": {},
   "outputs": [
    {
     "name": "stdout",
     "output_type": "stream",
     "text": [
      "sampled trajectory:\n",
      "[[3 3 3 3 3 3 3 3 3 3 3 3]\n",
      " [3 4 5 6 6 6 6 6 6 6 6 6]]\n"
     ]
    }
   ],
   "source": [
    "# in player 1's mind: I want to guide player 2 to [6], player 2 wants to go to [6]\n",
    "x1 = 3\n",
    "x2 = 3\n",
    "\n",
    "x_traj = np.zeros(horizon, int)\n",
    "x_traj[0] = x1*7 + x2\n",
    "x_list = np.zeros((horizon,2), int)\n",
    "x_list[0,0] = x1\n",
    "x_list[0,1] = x2\n",
    "for t in range(horizon-1):\n",
    "    action1 = pi1_3[t,int(x_traj[t])]\n",
    "    action2 = pi2_3[t,int(x_traj[t])]\n",
    "    x_traj[t+1] = dynamics(x_list[t,0],x_list[t,1], action1, action2)\n",
    "    x_list[t+1,0] = int(x_traj[t+1]/size_s)\n",
    "    x_list[t+1,1] = x_traj[t+1]%size_s\n",
    "print(\"sampled trajectory:\")\n",
    "print(x_list.transpose())"
   ]
  },
  {
   "cell_type": "code",
   "execution_count": 6,
   "id": "a79e4610",
   "metadata": {},
   "outputs": [
    {
     "name": "stdout",
     "output_type": "stream",
     "text": [
      "sampled trajectory:\n",
      "[[3 3 3 3 3 3 3 3 3 3 3 3]\n",
      " [3 3 3 3 3 3 3 3 3 3 3 3]]\n"
     ]
    }
   ],
   "source": [
    "# simulation never happens\n",
    "x1 = 3\n",
    "x2 = 3\n",
    "\n",
    "x_traj = np.zeros(horizon, int)\n",
    "x_traj[0] = x1*7 + x2\n",
    "x_list = np.zeros((horizon,2), int)\n",
    "x_list[0,0] = x1\n",
    "x_list[0,1] = x2\n",
    "for t in range(horizon-1):\n",
    "    action1 = pi1_4[t,int(x_traj[t])]\n",
    "    action2 = pi2_4[t,int(x_traj[t])]\n",
    "    x_traj[t+1] = dynamics(x_list[t,0],x_list[t,1], action1, action2)\n",
    "    x_list[t+1,0] = int(x_traj[t+1]/size_s)\n",
    "    x_list[t+1,1] = x_traj[t+1]%size_s\n",
    "print(\"sampled trajectory:\")\n",
    "print(x_list.transpose())"
   ]
  },
  {
   "cell_type": "code",
   "execution_count": 7,
   "id": "845ed3ca",
   "metadata": {},
   "outputs": [],
   "source": [
    "# Define belief update rule:\n",
    "# player 1's task policy: pi1_3,  observation: u2=pi2_2(t,x),  update belief according to: pi2_3\n",
    "# player 2's task policy: pi2_2,  observation: u1=pi1_3(t,x),  update belief according to: pi1_2\n",
    "x1=3\n",
    "x2=3\n",
    "def belief_update_p1(prior, u2, t, x):\n",
    "    if prior == 1:\n",
    "        if u2!=pi2_3[t,x]:\n",
    "            posterior = 0\n",
    "        else:\n",
    "            posterior = 1\n",
    "    else:\n",
    "        if u2!=pi2_1[t,x]:\n",
    "            posterior = 1\n",
    "        else:\n",
    "            posterior = 0\n",
    "    return posterior\n",
    "def belief_update_p2(prior, u1, t, x):\n",
    "    if prior == 1:\n",
    "        if u1!=pi1_2[t,x]:\n",
    "            posterior = 0\n",
    "        else:\n",
    "            posterior = 1\n",
    "    else:\n",
    "        if u1!=pi1_1[t,x]:\n",
    "            posterior = 1\n",
    "        else:\n",
    "            posterior = 0\n",
    "    return posterior"
   ]
  },
  {
   "cell_type": "code",
   "execution_count": 69,
   "id": "75521fcf",
   "metadata": {},
   "outputs": [
    {
     "name": "stdout",
     "output_type": "stream",
     "text": [
      "player 1's belief evolution:\n",
      "[1 1 0 0 0 0 0 0 0 0 0 0]\n",
      "player 2's belief evolution:\n",
      "[0 1 0 0 0 0 0 0 0 0 0 0]\n",
      "roll-out trajectory of two players:\n",
      "[[1 1 1 2 3 4 5 6 6 6 6 6]\n",
      " [4 5 4 5 6 6 6 6 6 6 6 6]]\n"
     ]
    }
   ],
   "source": [
    "# Roll-out trajectory\n",
    "x1=1                                     # initial state of player 1\n",
    "x2=4                                     # initial state of player 2\n",
    "x_traj_list = np.zeros((horizon,2), int) # state trajectory, understandable by human\n",
    "x_combined = np.zeros(horizon, int)      # state trajectory, understandable by computer\n",
    "x_traj_list[0,0] = x1                    # initial condition of player 1\n",
    "x_traj_list[0,1] = x2                    # initial condition of player 2\n",
    "x_combined[0] = x1*7+x2                  \n",
    "b1_list = np.zeros(horizon, int)         # player 1's belief \n",
    "b2_list = np.zeros(horizon, int)         # player 2's belief\n",
    "b1_list[0] = 1                           # player 1's initial belief\n",
    "b2_list[0] = 0                           # player 2's initial belief\n",
    "u1_list=np.zeros(horizon-1, int)         # player 1's control trajectory\n",
    "u2_list=np.zeros(horizon-1, int)         # player 2's control trajectory\n",
    "\n",
    "for t in range(horizon-1):\n",
    "    policy_of_player1 = pi1_1 if b1_list[t] == 0 else pi1_3\n",
    "    policy_of_player2 = pi2_1 if b2_list[t] == 0 else pi2_2\n",
    "    u1_list[t] = policy_of_player1[t,x_combined[t]]\n",
    "    u2_list[t] = policy_of_player2[t,x_combined[t]]\n",
    "    \n",
    "    x_combined[t+1] = dynamics(x_traj_list[t,0], x_traj_list[t,1],u1_list[t],u2_list[t])\n",
    "    x_traj_list[t+1,0] = int(x_combined[t+1]/size_s)\n",
    "    x_traj_list[t+1,1] = x_combined[t+1]%size_s\n",
    "    \n",
    "    b1_list[t+1] = belief_update_p1(b1_list[t], u2_list[t], t,x_combined[t])\n",
    "    b2_list[t+1] = belief_update_p2(b2_list[t], u1_list[t], t,x_combined[t])\n",
    "\n",
    "# player 1's belief converges as time goes. Initial belief: b1 = 1 \\in {0,1}\n",
    "print(\"player 1's belief evolution:\")\n",
    "print(b1_list)\n",
    "# player 2's belief converges as time goes. Initial belief: b2 = 0 \\in {0,1}\n",
    "print(\"player 2's belief evolution:\")\n",
    "print(b2_list)\n",
    "# simulated state trajectories of player 1 and player 2. Initial state x1[0] = 3, x2[0] = 3.\n",
    "print(\"roll-out trajectory of two players:\")\n",
    "print(x_traj_list.transpose())"
   ]
  },
  {
   "cell_type": "code",
   "execution_count": 118,
   "id": "c71c0f1b",
   "metadata": {},
   "outputs": [
    {
     "data": {
      "text/plain": [
       "'\\n         action 1\\n         --------\\n         |x x x\\naction 2 |x x x\\n         |x x x\\n         \\n'"
      ]
     },
     "execution_count": 118,
     "metadata": {},
     "output_type": "execute_result"
    }
   ],
   "source": [
    "# build the value iteration for belief update\n",
    "# 1. Reward\n",
    "# 2. Belief Dynamics\n",
    "\n",
    "size_s = 7\n",
    "n_belief = 2*2\n",
    "size_state_space = 7*7 * n_belief\n",
    "action_list = [-1, 0, 1] # moves left or right\n",
    "start_position_1 = 2 # position @\n",
    "start_position_2 = 4 # position %\n",
    "def new_dynamics(x1, x2, u1, u2, b1, b2, v1, v2,t):\n",
    "    x_current = x1*7+x2\n",
    "    x1_next = x1 + action_list[u1] + action_list[v1]\n",
    "    x2_next = x2 + action_list[u2] + action_list[v2]\n",
    "    if x1_next > 6 or x1_next < 0:\n",
    "        x1_next = x1\n",
    "    if x2_next > 6 or x2_next < 0:\n",
    "        x2_next = x2\n",
    "    x = x1_next*7+x2_next\n",
    "    b1_next = belief_update_p1(b1, u2, t, x_current)\n",
    "    b2_next = belief_update_p2(b2, u1, t, x_current)\n",
    "    return x + b1_next*size_s**2 + b2_next*size_s**2*2\n",
    "\n",
    "def policy_under_belief_player1(t, x, b1):\n",
    "    u1 = pi1_1[t,x] if b1 == 0 else pi1_3[t,x]\n",
    "    return u1\n",
    "def policy_under_belief_player2(t, x, b2):\n",
    "    u2 = pi2_1[t,x] if b2 == 0 else pi2_2[t,x]\n",
    "    return u2\n",
    "\n",
    "def bvalue_functions(horizon, size_s, exploration_cost):\n",
    "    NE_is_not_unique=False\n",
    "    Q1  = np.zeros((horizon-1, size_s**2*2*2, 3, 3))\n",
    "    Q2  = np.zeros((horizon-1, size_s**2*2*2, 3, 3))\n",
    "    pi1 = np.zeros((horizon-1, size_s**2*2*2), int)\n",
    "    pi2 = np.zeros((horizon-1, size_s**2*2*2), int)\n",
    "    V1  = np.zeros((horizon,   size_s**2*2*2))\n",
    "    V2  = np.zeros((horizon,   size_s**2*2*2))\n",
    "    r1 = p2_h1\n",
    "    r2 = p1_h1\n",
    "    for x in range(size_s**2):\n",
    "        x1 = int(x/size_s)\n",
    "        x2 = x%size_s\n",
    "        V1[-1,x] = r1(x1, x2, 1, 1)\n",
    "        V2[-1,x] = r2(x1, x2, 1, 1)\n",
    "    for t in np.flip(range(horizon-1)):\n",
    "        for x in range(size_s**2):\n",
    "            x1 = int(x/size_s)\n",
    "            x2 = x%size_s\n",
    "            for b1 in range(2):\n",
    "                for b2 in range(2):\n",
    "                    u1 = policy_under_belief_player1(t, x, b1)\n",
    "                    u2 = policy_under_belief_player2(t, x, b2)\n",
    "                    s = x + b1*size_s**2 + b2*2*size_s**2\n",
    "                    \n",
    "                    for v1 in range(3):\n",
    "                        for v2 in range(3):\n",
    "                            Q1[t,s,v1,v2] = r1(x1,x2,u1,u2) + exploration_cost*(v1-1)**2 + exploration_cost*(v2-1)**2 + V1[t+1,new_dynamics(x1,x2,u1,u2,b1,b2,v1,v2,t)] \n",
    "                            # u1 corresponds to row\n",
    "                            Q2[t,s,v1,v2] = r2(x1,x2,u1,u2) + exploration_cost*(v1-1)**2 + exploration_cost*(v2-1)**2 + V2[t+1,new_dynamics(x1,x2,u1,u2,b1,b2,v1,v2,t)]\n",
    "                    \n",
    "                    # ----------------- \n",
    "                    tmp1_list = {0:np.array([], dtype=np.int64), 1:np.array([], dtype=np.int64), \n",
    "                                 2:np.array([], dtype=np.int64)}\n",
    "                    tmp2_list = {0:np.array([], dtype=np.int64), 1:np.array([], dtype=np.int64),\n",
    "                                 2:np.array([], dtype=np.int64)}\n",
    "#                     import pdb; pdb.set_trace()\n",
    "                    # for player 1:\n",
    "                    for idx2 in range(3):\n",
    "                        for idx1 in range(3):\n",
    "                            if Q1[t,s,idx1,idx2] == np.min(Q1[t,s,idx2,:]):\n",
    "                                tmp1_list[idx2] = np.append(tmp1_list[idx2], idx1)\n",
    "#                                 import pdb; pdb.set_trace()\n",
    "                    # for player 2:\n",
    "                    for idx1 in range(3):\n",
    "                        for idx2 in range(3):\n",
    "                            if Q2[t,s,idx1,idx2] == np.min(Q2[t,s,:,idx1]):\n",
    "                                tmp2_list[idx1] = np.append(tmp2_list[idx1], idx2)\n",
    "                    # find NE\n",
    "                    policy1_list = np.array([], dtype=np.int64)\n",
    "                    policy2_list = np.array([], dtype=np.int64)\n",
    "                    for idx1 in range(3):\n",
    "                        for idx2 in range(3):\n",
    "                            if idx1 in tmp1_list[idx2] and idx2 in tmp2_list[idx1]:\n",
    "                                policy1_list = np.append(policy1_list, idx1)\n",
    "                                policy2_list = np.append(policy2_list, idx2)\n",
    "\n",
    "                    if len(policy1_list)>2:\n",
    "                        NE_is_not_unique=True\n",
    "                    elif len(policy1_list)==0:                        \n",
    "                        import pdb; pdb.set_trace()\n",
    "                    pi2[t,s] = policy1_list[0]\n",
    "                    pi1[t,s] = policy2_list[0]\n",
    "\n",
    "                    V1[t,s] = Q1[t, s, pi1[t,s], pi2[t,s]]\n",
    "                    V2[t,s] = Q2[t, s, pi1[t,s], pi2[t,s]]     \n",
    "    print(\"NE is not unique.\") if NE_is_not_unique==True else None\n",
    "    return V1, V2, Q1, Q2, pi1, pi2\n",
    "\n",
    "\n",
    "\"\"\"\n",
    "         action 1\n",
    "         --------\n",
    "         |x x x\n",
    "action 2 |x x x\n",
    "         |x x x\n",
    "         \n",
    "\"\"\""
   ]
  },
  {
   "cell_type": "code",
   "execution_count": 119,
   "id": "35d15223",
   "metadata": {},
   "outputs": [],
   "source": [
    "def compact_coordinate_to_readable_format(s):\n",
    "    x = s%(size_s**2)\n",
    "    x1 = int(x/size_s)\n",
    "    x2 = x%size_s \n",
    "    if int(s/size_s**2) == 3:\n",
    "        b1 = 1\n",
    "        b2 = 1\n",
    "    else:\n",
    "        b2 = int(s/(2*size_s**2))\n",
    "        b1 = int((s-size_s**2*2*b2)/size_s**2)\n",
    "    return x1, x2, b1, b2\n",
    "def readable_format_to_compact_coordinate(x1,x2,b1,b2):\n",
    "    return x1*size_s + x2 + b1*size_s**2 + b2*size_s**2*2\n"
   ]
  },
  {
   "cell_type": "code",
   "execution_count": 120,
   "id": "3541bf26",
   "metadata": {},
   "outputs": [
    {
     "data": {
      "text/plain": [
       "(1, 4, 0, 1)"
      ]
     },
     "execution_count": 120,
     "metadata": {},
     "output_type": "execute_result"
    }
   ],
   "source": [
    "b1=0\n",
    "b2=1\n",
    "x1 = 1\n",
    "x2 = 4\n",
    "x = x1*size_s+x2\n",
    "compact_coordinate_to_readable_format(readable_format_to_compact_coordinate(x1,x2,b1,b2))"
   ]
  },
  {
   "cell_type": "code",
   "execution_count": 117,
   "id": "43e1a678",
   "metadata": {},
   "outputs": [
    {
     "name": "stdout",
     "output_type": "stream",
     "text": [
      "> \u001b[0;32m<ipython-input-60-ca88be4006dd>\u001b[0m(92)\u001b[0;36mbvalue_functions\u001b[0;34m()\u001b[0m\n",
      "\u001b[0;32m     90 \u001b[0;31m                    \u001b[0;32melif\u001b[0m \u001b[0mlen\u001b[0m\u001b[0;34m(\u001b[0m\u001b[0mpolicy1_list\u001b[0m\u001b[0;34m)\u001b[0m\u001b[0;34m==\u001b[0m\u001b[0;36m0\u001b[0m\u001b[0;34m:\u001b[0m\u001b[0;34m\u001b[0m\u001b[0;34m\u001b[0m\u001b[0m\n",
      "\u001b[0m\u001b[0;32m     91 \u001b[0;31m                        \u001b[0;32mimport\u001b[0m \u001b[0mpdb\u001b[0m\u001b[0;34m;\u001b[0m \u001b[0mpdb\u001b[0m\u001b[0;34m.\u001b[0m\u001b[0mset_trace\u001b[0m\u001b[0;34m(\u001b[0m\u001b[0;34m)\u001b[0m\u001b[0;34m\u001b[0m\u001b[0;34m\u001b[0m\u001b[0m\n",
      "\u001b[0m\u001b[0;32m---> 92 \u001b[0;31m                    \u001b[0mpi2\u001b[0m\u001b[0;34m[\u001b[0m\u001b[0mt\u001b[0m\u001b[0;34m,\u001b[0m\u001b[0ms\u001b[0m\u001b[0;34m]\u001b[0m \u001b[0;34m=\u001b[0m \u001b[0mpolicy1_list\u001b[0m\u001b[0;34m[\u001b[0m\u001b[0;36m0\u001b[0m\u001b[0;34m]\u001b[0m\u001b[0;34m\u001b[0m\u001b[0;34m\u001b[0m\u001b[0m\n",
      "\u001b[0m\u001b[0;32m     93 \u001b[0;31m                    \u001b[0mpi1\u001b[0m\u001b[0;34m[\u001b[0m\u001b[0mt\u001b[0m\u001b[0;34m,\u001b[0m\u001b[0ms\u001b[0m\u001b[0;34m]\u001b[0m \u001b[0;34m=\u001b[0m \u001b[0mpolicy2_list\u001b[0m\u001b[0;34m[\u001b[0m\u001b[0;36m0\u001b[0m\u001b[0;34m]\u001b[0m\u001b[0;34m\u001b[0m\u001b[0;34m\u001b[0m\u001b[0m\n",
      "\u001b[0m\u001b[0;32m     94 \u001b[0;31m\u001b[0;34m\u001b[0m\u001b[0m\n",
      "\u001b[0m\n",
      "ipdb> t\n",
      "0\n",
      "ipdb> Q1[t,s]\n",
      "array([[120.3, 134.1, 120.3],\n",
      "       [100.3, 162.9, 100.3],\n",
      "       [145.4, 169.5, 145.4]])\n",
      "ipdb> Q2[t,s]\n",
      "array([[10.3, 14.1, 10.3],\n",
      "       [24.3, 22.9, 24.3],\n",
      "       [21.4, 77.5, 21.4]])\n",
      "ipdb> tmp1_list\n",
      "{0: array([1]), 1: array([0]), 2: array([1])}\n",
      "ipdb> tmp2_list\n",
      "{0: array([0, 2]), 1: array([1]), 2: array([0, 2])}\n",
      "ipdb> exit\n"
     ]
    },
    {
     "ename": "BdbQuit",
     "evalue": "",
     "output_type": "error",
     "traceback": [
      "\u001b[0;31m---------------------------------------------------------------------------\u001b[0m",
      "\u001b[0;31mBdbQuit\u001b[0m                                   Traceback (most recent call last)",
      "\u001b[0;32m<ipython-input-117-b082f6d42639>\u001b[0m in \u001b[0;36m<module>\u001b[0;34m\u001b[0m\n\u001b[1;32m      2\u001b[0m \u001b[0;31m# player 1 hypothesis: player 2 catches me                 or goes to [6] intrinsically\u001b[0m\u001b[0;34m\u001b[0m\u001b[0;34m\u001b[0m\u001b[0;34m\u001b[0m\u001b[0m\n\u001b[1;32m      3\u001b[0m \u001b[0;31m# player 2 hypothesis: player 1 wants to guide me to [6]   or goes to [0] intrinsically\u001b[0m\u001b[0;34m\u001b[0m\u001b[0;34m\u001b[0m\u001b[0;34m\u001b[0m\u001b[0m\n\u001b[0;32m----> 4\u001b[0;31m \u001b[0mbV1\u001b[0m\u001b[0;34m,\u001b[0m \u001b[0mbV2\u001b[0m\u001b[0;34m,\u001b[0m \u001b[0mbQ1\u001b[0m\u001b[0;34m,\u001b[0m \u001b[0mbQ2\u001b[0m\u001b[0;34m,\u001b[0m \u001b[0mbpi1\u001b[0m\u001b[0;34m,\u001b[0m \u001b[0mbpi2\u001b[0m \u001b[0;34m=\u001b[0m \u001b[0mbvalue_functions\u001b[0m\u001b[0;34m(\u001b[0m\u001b[0mhorizon\u001b[0m\u001b[0;34m,\u001b[0m \u001b[0msize_s\u001b[0m\u001b[0;34m,\u001b[0m \u001b[0;36m2.2\u001b[0m\u001b[0;34m)\u001b[0m\u001b[0;34m\u001b[0m\u001b[0;34m\u001b[0m\u001b[0m\n\u001b[0m",
      "\u001b[0;32m<ipython-input-60-ca88be4006dd>\u001b[0m in \u001b[0;36mbvalue_functions\u001b[0;34m(horizon, size_s, exploration_cost)\u001b[0m\n\u001b[1;32m     90\u001b[0m                     \u001b[0;32melif\u001b[0m \u001b[0mlen\u001b[0m\u001b[0;34m(\u001b[0m\u001b[0mpolicy1_list\u001b[0m\u001b[0;34m)\u001b[0m\u001b[0;34m==\u001b[0m\u001b[0;36m0\u001b[0m\u001b[0;34m:\u001b[0m\u001b[0;34m\u001b[0m\u001b[0;34m\u001b[0m\u001b[0m\n\u001b[1;32m     91\u001b[0m                         \u001b[0;32mimport\u001b[0m \u001b[0mpdb\u001b[0m\u001b[0;34m;\u001b[0m \u001b[0mpdb\u001b[0m\u001b[0;34m.\u001b[0m\u001b[0mset_trace\u001b[0m\u001b[0;34m(\u001b[0m\u001b[0;34m)\u001b[0m\u001b[0;34m\u001b[0m\u001b[0;34m\u001b[0m\u001b[0m\n\u001b[0;32m---> 92\u001b[0;31m                     \u001b[0mpi2\u001b[0m\u001b[0;34m[\u001b[0m\u001b[0mt\u001b[0m\u001b[0;34m,\u001b[0m\u001b[0ms\u001b[0m\u001b[0;34m]\u001b[0m \u001b[0;34m=\u001b[0m \u001b[0mpolicy1_list\u001b[0m\u001b[0;34m[\u001b[0m\u001b[0;36m0\u001b[0m\u001b[0;34m]\u001b[0m\u001b[0;34m\u001b[0m\u001b[0;34m\u001b[0m\u001b[0m\n\u001b[0m\u001b[1;32m     93\u001b[0m                     \u001b[0mpi1\u001b[0m\u001b[0;34m[\u001b[0m\u001b[0mt\u001b[0m\u001b[0;34m,\u001b[0m\u001b[0ms\u001b[0m\u001b[0;34m]\u001b[0m \u001b[0;34m=\u001b[0m \u001b[0mpolicy2_list\u001b[0m\u001b[0;34m[\u001b[0m\u001b[0;36m0\u001b[0m\u001b[0;34m]\u001b[0m\u001b[0;34m\u001b[0m\u001b[0;34m\u001b[0m\u001b[0m\n\u001b[1;32m     94\u001b[0m \u001b[0;34m\u001b[0m\u001b[0m\n",
      "\u001b[0;32m<ipython-input-60-ca88be4006dd>\u001b[0m in \u001b[0;36mbvalue_functions\u001b[0;34m(horizon, size_s, exploration_cost)\u001b[0m\n\u001b[1;32m     90\u001b[0m                     \u001b[0;32melif\u001b[0m \u001b[0mlen\u001b[0m\u001b[0;34m(\u001b[0m\u001b[0mpolicy1_list\u001b[0m\u001b[0;34m)\u001b[0m\u001b[0;34m==\u001b[0m\u001b[0;36m0\u001b[0m\u001b[0;34m:\u001b[0m\u001b[0;34m\u001b[0m\u001b[0;34m\u001b[0m\u001b[0m\n\u001b[1;32m     91\u001b[0m                         \u001b[0;32mimport\u001b[0m \u001b[0mpdb\u001b[0m\u001b[0;34m;\u001b[0m \u001b[0mpdb\u001b[0m\u001b[0;34m.\u001b[0m\u001b[0mset_trace\u001b[0m\u001b[0;34m(\u001b[0m\u001b[0;34m)\u001b[0m\u001b[0;34m\u001b[0m\u001b[0;34m\u001b[0m\u001b[0m\n\u001b[0;32m---> 92\u001b[0;31m                     \u001b[0mpi2\u001b[0m\u001b[0;34m[\u001b[0m\u001b[0mt\u001b[0m\u001b[0;34m,\u001b[0m\u001b[0ms\u001b[0m\u001b[0;34m]\u001b[0m \u001b[0;34m=\u001b[0m \u001b[0mpolicy1_list\u001b[0m\u001b[0;34m[\u001b[0m\u001b[0;36m0\u001b[0m\u001b[0;34m]\u001b[0m\u001b[0;34m\u001b[0m\u001b[0;34m\u001b[0m\u001b[0m\n\u001b[0m\u001b[1;32m     93\u001b[0m                     \u001b[0mpi1\u001b[0m\u001b[0;34m[\u001b[0m\u001b[0mt\u001b[0m\u001b[0;34m,\u001b[0m\u001b[0ms\u001b[0m\u001b[0;34m]\u001b[0m \u001b[0;34m=\u001b[0m \u001b[0mpolicy2_list\u001b[0m\u001b[0;34m[\u001b[0m\u001b[0;36m0\u001b[0m\u001b[0;34m]\u001b[0m\u001b[0;34m\u001b[0m\u001b[0;34m\u001b[0m\u001b[0m\n\u001b[1;32m     94\u001b[0m \u001b[0;34m\u001b[0m\u001b[0m\n",
      "\u001b[0;32m/opt/anaconda3/envs/pnas/lib/python3.6/bdb.py\u001b[0m in \u001b[0;36mtrace_dispatch\u001b[0;34m(self, frame, event, arg)\u001b[0m\n\u001b[1;32m     49\u001b[0m             \u001b[0;32mreturn\u001b[0m \u001b[0;31m# None\u001b[0m\u001b[0;34m\u001b[0m\u001b[0;34m\u001b[0m\u001b[0m\n\u001b[1;32m     50\u001b[0m         \u001b[0;32mif\u001b[0m \u001b[0mevent\u001b[0m \u001b[0;34m==\u001b[0m \u001b[0;34m'line'\u001b[0m\u001b[0;34m:\u001b[0m\u001b[0;34m\u001b[0m\u001b[0;34m\u001b[0m\u001b[0m\n\u001b[0;32m---> 51\u001b[0;31m             \u001b[0;32mreturn\u001b[0m \u001b[0mself\u001b[0m\u001b[0;34m.\u001b[0m\u001b[0mdispatch_line\u001b[0m\u001b[0;34m(\u001b[0m\u001b[0mframe\u001b[0m\u001b[0;34m)\u001b[0m\u001b[0;34m\u001b[0m\u001b[0;34m\u001b[0m\u001b[0m\n\u001b[0m\u001b[1;32m     52\u001b[0m         \u001b[0;32mif\u001b[0m \u001b[0mevent\u001b[0m \u001b[0;34m==\u001b[0m \u001b[0;34m'call'\u001b[0m\u001b[0;34m:\u001b[0m\u001b[0;34m\u001b[0m\u001b[0;34m\u001b[0m\u001b[0m\n\u001b[1;32m     53\u001b[0m             \u001b[0;32mreturn\u001b[0m \u001b[0mself\u001b[0m\u001b[0;34m.\u001b[0m\u001b[0mdispatch_call\u001b[0m\u001b[0;34m(\u001b[0m\u001b[0mframe\u001b[0m\u001b[0;34m,\u001b[0m \u001b[0marg\u001b[0m\u001b[0;34m)\u001b[0m\u001b[0;34m\u001b[0m\u001b[0;34m\u001b[0m\u001b[0m\n",
      "\u001b[0;32m/opt/anaconda3/envs/pnas/lib/python3.6/bdb.py\u001b[0m in \u001b[0;36mdispatch_line\u001b[0;34m(self, frame)\u001b[0m\n\u001b[1;32m     68\u001b[0m         \u001b[0;32mif\u001b[0m \u001b[0mself\u001b[0m\u001b[0;34m.\u001b[0m\u001b[0mstop_here\u001b[0m\u001b[0;34m(\u001b[0m\u001b[0mframe\u001b[0m\u001b[0;34m)\u001b[0m \u001b[0;32mor\u001b[0m \u001b[0mself\u001b[0m\u001b[0;34m.\u001b[0m\u001b[0mbreak_here\u001b[0m\u001b[0;34m(\u001b[0m\u001b[0mframe\u001b[0m\u001b[0;34m)\u001b[0m\u001b[0;34m:\u001b[0m\u001b[0;34m\u001b[0m\u001b[0;34m\u001b[0m\u001b[0m\n\u001b[1;32m     69\u001b[0m             \u001b[0mself\u001b[0m\u001b[0;34m.\u001b[0m\u001b[0muser_line\u001b[0m\u001b[0;34m(\u001b[0m\u001b[0mframe\u001b[0m\u001b[0;34m)\u001b[0m\u001b[0;34m\u001b[0m\u001b[0;34m\u001b[0m\u001b[0m\n\u001b[0;32m---> 70\u001b[0;31m             \u001b[0;32mif\u001b[0m \u001b[0mself\u001b[0m\u001b[0;34m.\u001b[0m\u001b[0mquitting\u001b[0m\u001b[0;34m:\u001b[0m \u001b[0;32mraise\u001b[0m \u001b[0mBdbQuit\u001b[0m\u001b[0;34m\u001b[0m\u001b[0;34m\u001b[0m\u001b[0m\n\u001b[0m\u001b[1;32m     71\u001b[0m         \u001b[0;32mreturn\u001b[0m \u001b[0mself\u001b[0m\u001b[0;34m.\u001b[0m\u001b[0mtrace_dispatch\u001b[0m\u001b[0;34m\u001b[0m\u001b[0;34m\u001b[0m\u001b[0m\n\u001b[1;32m     72\u001b[0m \u001b[0;34m\u001b[0m\u001b[0m\n",
      "\u001b[0;31mBdbQuit\u001b[0m: "
     ]
    }
   ],
   "source": [
    "horizon = 5\n",
    "# player 1 hypothesis: player 2 catches me                 or goes to [6] intrinsically\n",
    "# player 2 hypothesis: player 1 wants to guide me to [6]   or goes to [0] intrinsically\n",
    "bV1, bV2, bQ1, bQ2, bpi1, bpi2 = bvalue_functions(horizon, size_s, 2.2)"
   ]
  },
  {
   "cell_type": "code",
   "execution_count": 116,
   "id": "5add5c7c",
   "metadata": {},
   "outputs": [
    {
     "name": "stdout",
     "output_type": "stream",
     "text": [
      "player 1's belief evolution:\n",
      "[0 1 1 1]\n",
      "player 2's belief evolution:\n",
      "[1 0 0 1]\n",
      "roll-out trajectory with belief update:\n",
      "[[3 3 3 3]\n",
      " [4 2 3 4]]\n"
     ]
    }
   ],
   "source": [
    "# simulate the system\n",
    "# Roll-out trajectory\n",
    "x1=3                                     # initial state of player 1\n",
    "x2=4                                     # initial state of player 2\n",
    "x_traj_list = np.zeros((horizon,2), int) # state trajectory, understandable by human\n",
    "x_combined = np.zeros(horizon, int)      # state trajectory, understandable by computer\n",
    "x_traj_list[0,0] = x1                    # initial condition of player 1\n",
    "x_traj_list[0,1] = x2                    # initial condition of player 2\n",
    "x_combined[0] = x1*7+x2                  \n",
    "b1_list = np.zeros(horizon, int)         # player 1's belief \n",
    "b2_list = np.zeros(horizon, int)         # player 2's belief\n",
    "b1_list[0] = 0                           # player 1's initial belief\n",
    "b2_list[0] = 1                           # player 2's initial belief\n",
    "u1_list=np.zeros(horizon-1, int)         # player 1's control trajectory\n",
    "u2_list=np.zeros(horizon-1, int)         # player 2's control trajectory\n",
    "v1_list=np.zeros(horizon-1, int)         # player 1's exploration action trajectory\n",
    "v2_list=np.zeros(horizon-1, int)         # player 2's exploration action trajectory\n",
    "\n",
    "\n",
    "for t in range(horizon-1):\n",
    "    policy_of_player1 = pi1_1 if b1_list[t] == 0 else pi1_3\n",
    "    policy_of_player2 = pi2_1 if b2_list[t] == 0 else pi2_2\n",
    "    s = readable_format_to_compact_coordinate(x_traj_list[t,0],x_traj_list[t,1],b1_list[t],b2_list[t])\n",
    "    v1_list[t] = bpi1[t,s]\n",
    "    v2_list[t] = bpi2[t,s]\n",
    "    u1_list[t] = policy_of_player1[t,x_combined[t]]\n",
    "    u2_list[t] = policy_of_player2[t,x_combined[t]]\n",
    "    \n",
    "    new_s=new_dynamics(x_traj_list[t,0],x_traj_list[t,1],u1_list[t],u2_list[t],\n",
    "                       b1_list[t],b2_list[t],v1_list[t],v2_list[t],t)\n",
    "    x_traj_list[t+1,0], x_traj_list[t+1,1], b1_list[t+1], b2_list[t+1] = compact_coordinate_to_readable_format(\n",
    "                                                                                                        new_s)\n",
    "    x_combined[t+1] = x_traj_list[t+1,0]*size_s + x_traj_list[t+1,1]\n",
    "\n",
    "# player 1's belief converges as time goes. Initial belief: b1 = 1 \\in {0,1}\n",
    "print(\"player 1's belief evolution:\")\n",
    "print(b1_list)\n",
    "# player 2's belief converges as time goes. Initial belief: b2 = 0 \\in {0,1}\n",
    "print(\"player 2's belief evolution:\")\n",
    "print(b2_list)\n",
    "# simulated state trajectories of player 1 and player 2. Initial state x1[0] = 3, x2[0] = 3.\n",
    "print(\"roll-out trajectory with belief update:\")\n",
    "print(x_traj_list.transpose())"
   ]
  },
  {
   "cell_type": "code",
   "execution_count": 106,
   "id": "8195ae49",
   "metadata": {},
   "outputs": [
    {
     "data": {
      "text/plain": [
       "array([0, 1, 1])"
      ]
     },
     "execution_count": 106,
     "metadata": {},
     "output_type": "execute_result"
    }
   ],
   "source": [
    "v1_list"
   ]
  },
  {
   "cell_type": "code",
   "execution_count": 107,
   "id": "6692bbee",
   "metadata": {},
   "outputs": [
    {
     "data": {
      "text/plain": [
       "array([0, 1, 1])"
      ]
     },
     "execution_count": 107,
     "metadata": {},
     "output_type": "execute_result"
    }
   ],
   "source": [
    "v2_list"
   ]
  },
  {
   "cell_type": "code",
   "execution_count": 17,
   "id": "424c163f",
   "metadata": {},
   "outputs": [
    {
     "name": "stdout",
     "output_type": "stream",
     "text": [
      "[0 1 0 1 1 0]\n"
     ]
    }
   ],
   "source": [
    "print(b1_list)"
   ]
  },
  {
   "cell_type": "code",
   "execution_count": 18,
   "id": "24acfaf8",
   "metadata": {},
   "outputs": [
    {
     "name": "stdout",
     "output_type": "stream",
     "text": [
      "[1 1 1 0 1 0]\n"
     ]
    }
   ],
   "source": [
    "print(b2_list)"
   ]
  },
  {
   "cell_type": "code",
   "execution_count": 19,
   "id": "48db3274",
   "metadata": {},
   "outputs": [
    {
     "data": {
      "text/plain": [
       "array([2, 1, 2, 1, 1])"
      ]
     },
     "execution_count": 19,
     "metadata": {},
     "output_type": "execute_result"
    }
   ],
   "source": [
    "u1_list"
   ]
  },
  {
   "cell_type": "code",
   "execution_count": null,
   "id": "fae61ab0",
   "metadata": {},
   "outputs": [],
   "source": []
  }
 ],
 "metadata": {
  "kernelspec": {
   "display_name": "Python 3",
   "language": "python",
   "name": "python3"
  },
  "language_info": {
   "codemirror_mode": {
    "name": "ipython",
    "version": 3
   },
   "file_extension": ".py",
   "mimetype": "text/x-python",
   "name": "python",
   "nbconvert_exporter": "python",
   "pygments_lexer": "ipython3",
   "version": "3.6.13"
  }
 },
 "nbformat": 4,
 "nbformat_minor": 5
}
